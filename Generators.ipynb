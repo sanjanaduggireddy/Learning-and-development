{
 "cells": [
  {
   "cell_type": "code",
   "execution_count": 1,
   "id": "2e068c4c-228b-4d96-8d99-5c725fb425c1",
   "metadata": {},
   "outputs": [
    {
     "name": "stdout",
     "output_type": "stream",
     "text": [
      "Brand: Asus\n",
      "Summary:\n",
      "{'Processor_Speed_avg': 2.8034462569289467, 'RAM_Size_avg': 14.271844660194175, 'Storage_Capacity_avg': 593.9805825242719, 'Screen_Size_avg': 14.006140759676802, 'Weight_avg': 3.4289459623547422, 'Price_avg': 19854.238277077282}\n",
      "\n",
      "\n",
      "Brand: Acer\n",
      "Summary:\n",
      "{'Processor_Speed_avg': 2.731008919319517, 'RAM_Size_avg': 15.803921568627452, 'Storage_Capacity_avg': 596.6274509803922, 'Screen_Size_avg': 14.185162461160889, 'Weight_avg': 3.5419574058323717, 'Price_avg': 19984.613619981028}\n",
      "\n",
      "\n",
      "Brand: Lenovo\n",
      "Summary:\n",
      "{'Processor_Speed_avg': 2.7176678682208184, 'RAM_Size_avg': 16.273684210526316, 'Storage_Capacity_avg': 596.1263157894737, 'Screen_Size_avg': 14.01394196538972, 'Weight_avg': 3.484541310749552, 'Price_avg': 19974.92972485071}\n",
      "\n",
      "\n",
      "Brand: HP\n",
      "Summary:\n",
      "{'Processor_Speed_avg': 2.7940927234703965, 'RAM_Size_avg': 14.378947368421052, 'Storage_Capacity_avg': 578.6526315789474, 'Screen_Size_avg': 13.967939781657233, 'Weight_avg': 3.405049987249811, 'Price_avg': 19369.762929776007}\n",
      "\n",
      "\n",
      "Brand: Dell\n",
      "Summary:\n",
      "{'Processor_Speed_avg': 2.708287923729225, 'RAM_Size_avg': 16.723809523809525, 'Storage_Capacity_avg': 558.552380952381, 'Screen_Size_avg': 14.100923385887587, 'Weight_avg': 3.4713092473545024, 'Price_avg': 18866.009977620455}\n",
      "\n",
      "\n"
     ]
    }
   ],
   "source": [
    "import pandas as pd \n",
    "import pandas as pd\n",
    "file_path=r\"laptoppriceprediction/Laptop_price.csv\"\n",
    "df=pd.read_csv(file_path)\n",
    "def brand_summary_generator(dataset):\n",
    "    unique_brands = dataset['Brand'].unique()\n",
    "\n",
    "    for brand in unique_brands:\n",
    "        brand_data = dataset[dataset['Brand'] == brand]\n",
    "        summary = {\n",
    "            'Processor_Speed_avg': brand_data['Processor_Speed'].mean(),\n",
    "            'RAM_Size_avg': brand_data['RAM_Size'].mean(),\n",
    "            'Storage_Capacity_avg': brand_data['Storage_Capacity'].mean(),\n",
    "            'Screen_Size_avg': brand_data['Screen_Size'].mean(),\n",
    "            'Weight_avg': brand_data['Weight'].mean(),\n",
    "            'Price_avg': brand_data['Price'].mean()\n",
    "        }\n",
    "\n",
    "        yield brand, summary\n",
    "\n",
    "for brand, summary in brand_summary_generator(df):\n",
    "    print(f\"Brand: {brand}\")\n",
    "    print(\"Summary:\")\n",
    "    print(summary)\n",
    "    print(\"\\n\")"
   ]
  },
  {
   "cell_type": "code",
   "execution_count": null,
   "id": "4b0a0960-f0a8-496b-8a07-4dffb8d7d363",
   "metadata": {},
   "outputs": [],
   "source": []
  }
 ],
 "metadata": {
  "kernelspec": {
   "display_name": "Python 3 (ipykernel)",
   "language": "python",
   "name": "python3"
  },
  "language_info": {
   "codemirror_mode": {
    "name": "ipython",
    "version": 3
   },
   "file_extension": ".py",
   "mimetype": "text/x-python",
   "name": "python",
   "nbconvert_exporter": "python",
   "pygments_lexer": "ipython3",
   "version": "3.9.13"
  }
 },
 "nbformat": 4,
 "nbformat_minor": 5
}
